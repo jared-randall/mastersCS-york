{
 "cells": [
  {
   "cell_type": "code",
   "execution_count": 49,
   "metadata": {},
   "outputs": [
    {
     "name": "stdout",
     "output_type": "stream",
     "text": [
      "C:\\Users\\jaredrandall\\Downloads\\York\n"
     ]
    }
   ],
   "source": [
    "#importing libraries\n",
    "import pandas as pd\n",
    "import numpy as np\n",
    "import os\n",
    "\n",
    "print(os.getcwd())\n",
    "os.chdir('C:\\\\Users\\\\jaredrandall\\\\Downloads\\\\York')\n",
    "\n",
    "\n",
    "\n",
    "#read csv file into a pandas dataframe\n",
    "raw_df = pd.read_csv(\"gcse.csv\")"
   ]
  },
  {
   "cell_type": "code",
   "execution_count": 50,
   "metadata": {},
   "outputs": [
    {
     "name": "stdout",
     "output_type": "stream",
     "text": [
      "      id    firstname lastname gender         dob           auth  \\\n",
      "0      1    CHARLOTTE   Wright      f    1977/3/6      Bath/Avon   \n",
      "1      2        LEIGH  Roberts     mf   1977/5/31          Herts   \n",
      "2      3      MICHAEL    Clark      m    1977/4/4  Wolverhampton   \n",
      "3      4         LUKE    White      m  1978/11/25      Bath/Avon   \n",
      "4      5       TAYLOR    Clark      m   1979/8/13      Bath/Avon   \n",
      "..   ...          ...      ...    ...         ...            ...   \n",
      "110  111    ALEXANDER   Davies      m  1978/11/20  Wolverhampton   \n",
      "111  112  CHRISTOPHER     Wood      m   1979/10/8  Wolverhampton   \n",
      "112  113       SAMUEL    Jones      m   1979/11/6          Herts   \n",
      "113  114       SAMUEL      NaN      m   1977/2/29      Bath/Avon   \n",
      "114  115      NATASHA   Walker    NaN    1979/5/7          Herts   \n",
      "\n",
      "               subject1 grade1            subject2 grade2            subject3  \\\n",
      "0    English Literature      A               Maths      U    English Language   \n",
      "1      English Language      E      Double Science      B  English Literature   \n",
      "2    English Literature      U               Maths      F      Double Science   \n",
      "3                 Maths      D    English Language     A*      Double Science   \n",
      "4                 Maths      A             History    NaN  English Literature   \n",
      "..                  ...    ...                 ...    ...                 ...   \n",
      "110             Geology      E               Maths      C  English Literature   \n",
      "111    English Language      D             History      K           Geography   \n",
      "112  English Literature      B    English Language      D           Geography   \n",
      "113               Maths     A*               Maths      C      Double Science   \n",
      "114      Double Science      A  English Literature      F             History   \n",
      "\n",
      "    grade3            subject4 grade4            subject5 grade5  \n",
      "0        N           Geography      U             History      1  \n",
      "1        C           Geography      E               Maths      B  \n",
      "2        C             Geology      G             History     A*  \n",
      "3        G           Geography      C  English Literature      E  \n",
      "4        F    English Language      C      Double Science      4  \n",
      "..     ...                 ...    ...                 ...    ...  \n",
      "110      D    English Language      C      Double Science      C  \n",
      "111      C  English Literature      D               Maths      F  \n",
      "112      F             History      C      Double Science      G  \n",
      "113      D  English Literature      B                 NaN      D  \n",
      "114      E               Maths     A*           Geography      F  \n",
      "\n",
      "[115 rows x 16 columns]\n"
     ]
    }
   ],
   "source": [
    "#take a look at the first few rows\n",
    "print(raw_df)\n",
    "#raw_df['grade1'].apply(str)"
   ]
  },
  {
   "cell_type": "code",
   "execution_count": 51,
   "metadata": {},
   "outputs": [],
   "source": [
    "#make a copy of the data\n",
    "copy_df = raw_df.copy()"
   ]
  },
  {
   "cell_type": "code",
   "execution_count": 52,
   "metadata": {},
   "outputs": [],
   "source": [
    "#making a list of missing value types\n",
    "missing_values = [\"n/a\", \"na\", \"?\", \"NaN\", \"1\", \"4\", \"mf\"]\n",
    "copy_df = pd.read_csv(\"gcse.csv\", na_values = missing_values) #Additional strings to recognize as NA/NaN. If dict passed, specific per-column NA values."
   ]
  },
  {
   "cell_type": "code",
   "execution_count": 53,
   "metadata": {},
   "outputs": [
    {
     "name": "stdout",
     "output_type": "stream",
     "text": [
      "id           2\n",
      "firstname    7\n",
      "lastname     3\n",
      "gender       5\n",
      "dob          0\n",
      "auth         0\n",
      "subject1     6\n",
      "grade1       1\n",
      "subject2     3\n",
      "grade2       1\n",
      "subject3     5\n",
      "grade3       4\n",
      "subject4     5\n",
      "grade4       1\n",
      "subject5     2\n",
      "grade5       4\n",
      "dtype: int64\n"
     ]
    }
   ],
   "source": [
    "#find total missing values across all features of the data\n",
    "print (copy_df.isnull().sum())"
   ]
  },
  {
   "cell_type": "code",
   "execution_count": 54,
   "metadata": {},
   "outputs": [
    {
     "ename": "AttributeError",
     "evalue": "'float' object has no attribute 'replace'",
     "output_type": "error",
     "traceback": [
      "\u001b[1;31m---------------------------------------------------------------------------\u001b[0m",
      "\u001b[1;31mAttributeError\u001b[0m                            Traceback (most recent call last)",
      "\u001b[1;32m<ipython-input-54-6237d1891a13>\u001b[0m in \u001b[0;36m<module>\u001b[1;34m\u001b[0m\n\u001b[0;32m      1\u001b[0m \u001b[0mcols_to_clean\u001b[0m \u001b[1;33m=\u001b[0m \u001b[1;33m[\u001b[0m\u001b[1;34m'grade1'\u001b[0m\u001b[1;33m]\u001b[0m\u001b[1;33m\u001b[0m\u001b[1;33m\u001b[0m\u001b[0m\n\u001b[0;32m      2\u001b[0m \u001b[1;32mfor\u001b[0m \u001b[0mcol\u001b[0m \u001b[1;32min\u001b[0m \u001b[0mcols_to_clean\u001b[0m\u001b[1;33m:\u001b[0m\u001b[1;33m\u001b[0m\u001b[1;33m\u001b[0m\u001b[0m\n\u001b[1;32m----> 3\u001b[1;33m     \u001b[0mcopy_df\u001b[0m\u001b[1;33m[\u001b[0m\u001b[0mcol\u001b[0m\u001b[1;33m]\u001b[0m \u001b[1;33m=\u001b[0m \u001b[0mcopy_df\u001b[0m\u001b[1;33m[\u001b[0m\u001b[0mcol\u001b[0m\u001b[1;33m]\u001b[0m\u001b[1;33m.\u001b[0m\u001b[0mmap\u001b[0m\u001b[1;33m(\u001b[0m\u001b[1;32mlambda\u001b[0m \u001b[0mx\u001b[0m\u001b[1;33m:\u001b[0m \u001b[0mx\u001b[0m\u001b[1;33m.\u001b[0m\u001b[0mreplace\u001b[0m\u001b[1;33m(\u001b[0m\u001b[1;34m'+'\u001b[0m\u001b[1;33m,\u001b[0m\u001b[1;34m'*'\u001b[0m\u001b[1;33m)\u001b[0m\u001b[1;33m)\u001b[0m\u001b[1;33m\u001b[0m\u001b[1;33m\u001b[0m\u001b[0m\n\u001b[0m",
      "\u001b[1;32m~\\Anaconda3\\lib\\site-packages\\pandas\\core\\series.py\u001b[0m in \u001b[0;36mmap\u001b[1;34m(self, arg, na_action)\u001b[0m\n\u001b[0;32m   3968\u001b[0m         \u001b[0mdtype\u001b[0m\u001b[1;33m:\u001b[0m \u001b[0mobject\u001b[0m\u001b[1;33m\u001b[0m\u001b[1;33m\u001b[0m\u001b[0m\n\u001b[0;32m   3969\u001b[0m         \"\"\"\n\u001b[1;32m-> 3970\u001b[1;33m         \u001b[0mnew_values\u001b[0m \u001b[1;33m=\u001b[0m \u001b[0msuper\u001b[0m\u001b[1;33m(\u001b[0m\u001b[1;33m)\u001b[0m\u001b[1;33m.\u001b[0m\u001b[0m_map_values\u001b[0m\u001b[1;33m(\u001b[0m\u001b[0marg\u001b[0m\u001b[1;33m,\u001b[0m \u001b[0mna_action\u001b[0m\u001b[1;33m=\u001b[0m\u001b[0mna_action\u001b[0m\u001b[1;33m)\u001b[0m\u001b[1;33m\u001b[0m\u001b[1;33m\u001b[0m\u001b[0m\n\u001b[0m\u001b[0;32m   3971\u001b[0m         return self._constructor(new_values, index=self.index).__finalize__(\n\u001b[0;32m   3972\u001b[0m             \u001b[0mself\u001b[0m\u001b[1;33m,\u001b[0m \u001b[0mmethod\u001b[0m\u001b[1;33m=\u001b[0m\u001b[1;34m\"map\"\u001b[0m\u001b[1;33m\u001b[0m\u001b[1;33m\u001b[0m\u001b[0m\n",
      "\u001b[1;32m~\\Anaconda3\\lib\\site-packages\\pandas\\core\\base.py\u001b[0m in \u001b[0;36m_map_values\u001b[1;34m(self, mapper, na_action)\u001b[0m\n\u001b[0;32m   1158\u001b[0m \u001b[1;33m\u001b[0m\u001b[0m\n\u001b[0;32m   1159\u001b[0m         \u001b[1;31m# mapper is a function\u001b[0m\u001b[1;33m\u001b[0m\u001b[1;33m\u001b[0m\u001b[1;33m\u001b[0m\u001b[0m\n\u001b[1;32m-> 1160\u001b[1;33m         \u001b[0mnew_values\u001b[0m \u001b[1;33m=\u001b[0m \u001b[0mmap_f\u001b[0m\u001b[1;33m(\u001b[0m\u001b[0mvalues\u001b[0m\u001b[1;33m,\u001b[0m \u001b[0mmapper\u001b[0m\u001b[1;33m)\u001b[0m\u001b[1;33m\u001b[0m\u001b[1;33m\u001b[0m\u001b[0m\n\u001b[0m\u001b[0;32m   1161\u001b[0m \u001b[1;33m\u001b[0m\u001b[0m\n\u001b[0;32m   1162\u001b[0m         \u001b[1;32mreturn\u001b[0m \u001b[0mnew_values\u001b[0m\u001b[1;33m\u001b[0m\u001b[1;33m\u001b[0m\u001b[0m\n",
      "\u001b[1;32mpandas\\_libs\\lib.pyx\u001b[0m in \u001b[0;36mpandas._libs.lib.map_infer\u001b[1;34m()\u001b[0m\n",
      "\u001b[1;32m<ipython-input-54-6237d1891a13>\u001b[0m in \u001b[0;36m<lambda>\u001b[1;34m(x)\u001b[0m\n\u001b[0;32m      1\u001b[0m \u001b[0mcols_to_clean\u001b[0m \u001b[1;33m=\u001b[0m \u001b[1;33m[\u001b[0m\u001b[1;34m'grade1'\u001b[0m\u001b[1;33m]\u001b[0m\u001b[1;33m\u001b[0m\u001b[1;33m\u001b[0m\u001b[0m\n\u001b[0;32m      2\u001b[0m \u001b[1;32mfor\u001b[0m \u001b[0mcol\u001b[0m \u001b[1;32min\u001b[0m \u001b[0mcols_to_clean\u001b[0m\u001b[1;33m:\u001b[0m\u001b[1;33m\u001b[0m\u001b[1;33m\u001b[0m\u001b[0m\n\u001b[1;32m----> 3\u001b[1;33m     \u001b[0mcopy_df\u001b[0m\u001b[1;33m[\u001b[0m\u001b[0mcol\u001b[0m\u001b[1;33m]\u001b[0m \u001b[1;33m=\u001b[0m \u001b[0mcopy_df\u001b[0m\u001b[1;33m[\u001b[0m\u001b[0mcol\u001b[0m\u001b[1;33m]\u001b[0m\u001b[1;33m.\u001b[0m\u001b[0mmap\u001b[0m\u001b[1;33m(\u001b[0m\u001b[1;32mlambda\u001b[0m \u001b[0mx\u001b[0m\u001b[1;33m:\u001b[0m \u001b[0mx\u001b[0m\u001b[1;33m.\u001b[0m\u001b[0mreplace\u001b[0m\u001b[1;33m(\u001b[0m\u001b[1;34m'+'\u001b[0m\u001b[1;33m,\u001b[0m\u001b[1;34m'*'\u001b[0m\u001b[1;33m)\u001b[0m\u001b[1;33m)\u001b[0m\u001b[1;33m\u001b[0m\u001b[1;33m\u001b[0m\u001b[0m\n\u001b[0m",
      "\u001b[1;31mAttributeError\u001b[0m: 'float' object has no attribute 'replace'"
     ]
    }
   ],
   "source": [
    "#cols_to_clean = ['grade1']\n",
    "#for col in cols_to_clean:\n",
    "    #copy_df[col] = copy_df[col].map(lambda x: x.replace('+','*'))"
   ]
  },
  {
   "cell_type": "code",
   "execution_count": 55,
   "metadata": {},
   "outputs": [
    {
     "name": "stdout",
     "output_type": "stream",
     "text": [
      "0       A\n",
      "1       E\n",
      "2       U\n",
      "3       D\n",
      "4       A\n",
      "       ..\n",
      "110     E\n",
      "111     D\n",
      "112     B\n",
      "113    A*\n",
      "114     A\n",
      "Name: grade1, Length: 115, dtype: object\n"
     ]
    }
   ],
   "source": [
    "print(copy_df['grade1'])"
   ]
  },
  {
   "cell_type": "code",
   "execution_count": 56,
   "metadata": {},
   "outputs": [],
   "source": [
    "#replace invalid grading N and K were missing values imputation based on their location (remember in python index starts with 0)\n",
    "\n",
    "copy_df.loc[6, 'grade1'] = np.nan\n",
    "copy_df.loc[0, 'grade3'] = np.nan\n",
    "copy_df.loc[8, 'grade4'] = np.nan\n",
    "copy_df.loc[21, 'grade5'] = np.nan"
   ]
  },
  {
   "cell_type": "code",
   "execution_count": 75,
   "metadata": {},
   "outputs": [
    {
     "name": "stdout",
     "output_type": "stream",
     "text": [
      "      id firstname lastname gender         dob           auth  \\\n",
      "39  40.0    ALEXIS    Smith      f   1978/7/29          Herts   \n",
      "84  85.0  VICTORIA    Clark      f  1979/12/24      Bath/Avon   \n",
      "93  94.0    NATHAN    Smith      m   1979/5/16  Wolverhampton   \n",
      "\n",
      "              subject1 grade1        subject2 grade2          subject3 grade3  \\\n",
      "39           Geography      N           Maths      F    Double Science      E   \n",
      "84  English Literature      N         History      E  English Language      5   \n",
      "93           Geography      N  Double Science      E  English Language      B   \n",
      "\n",
      "            subject4 grade4        subject5 grade5  \n",
      "39  English Language      F         History      B  \n",
      "84             Maths      A  Double Science      B  \n",
      "93           History      U           Maths      G  \n"
     ]
    }
   ],
   "source": [
    "print(copy_df.loc[copy_df['grade1'] == \"N\"]) #finds row that where grade1 has a value of N"
   ]
  },
  {
   "cell_type": "code",
   "execution_count": 87,
   "metadata": {},
   "outputs": [],
   "source": [
    "# create date time format of the DOB column and add at the end of\n",
    "datetime_format = pd.to_datetime(copy_df['dob'], errors = 'coerce')\n",
    "#change format to dd/mm/yyyy from yyyy/dd/mm\n",
    "copy_df['formatted_DOB'] = datetime_format.dt.strftime('%d/%m/%Y')"
   ]
  },
  {
   "cell_type": "code",
   "execution_count": 88,
   "metadata": {},
   "outputs": [
    {
     "name": "stdout",
     "output_type": "stream",
     "text": [
      "        id     Hobby    firstname lastname gender         dob           auth  \\\n",
      "0      NaN  06031977    CHARLOTTE   Wright      f    1977/3/6      Bath/Avon   \n",
      "1      2.0  31051977        LEIGH  Roberts    NaN   1977/5/31          Herts   \n",
      "2      3.0  04041977      MICHAEL    Clark      m    1977/4/4  Wolverhampton   \n",
      "3      NaN  25111978         LUKE    White      m  1978/11/25      Bath/Avon   \n",
      "4      5.0  13081979       TAYLOR    Clark      m   1979/8/13      Bath/Avon   \n",
      "..     ...       ...          ...      ...    ...         ...            ...   \n",
      "110  111.0  20111978    ALEXANDER   Davies      m  1978/11/20  Wolverhampton   \n",
      "111  112.0  08101979  CHRISTOPHER     Wood      m   1979/10/8  Wolverhampton   \n",
      "112  113.0  06111979       SAMUEL    Jones      m   1979/11/6          Herts   \n",
      "113  114.0       NaN       SAMUEL      NaN      m   1977/2/29      Bath/Avon   \n",
      "114  115.0  07051979      NATASHA   Walker    NaN    1979/5/7          Herts   \n",
      "\n",
      "               subject1 grade1            subject2 grade2            subject3  \\\n",
      "0    English Literature      A               Maths      U    English Language   \n",
      "1      English Language      E      Double Science      B  English Literature   \n",
      "2    English Literature      U               Maths      F      Double Science   \n",
      "3                 Maths      D    English Language     A*      Double Science   \n",
      "4                 Maths      A             History    NaN  English Literature   \n",
      "..                  ...    ...                 ...    ...                 ...   \n",
      "110             Geology      E               Maths      C  English Literature   \n",
      "111    English Language      D             History      K           Geography   \n",
      "112  English Literature      B    English Language      D           Geography   \n",
      "113               Maths     A*               Maths      C      Double Science   \n",
      "114      Double Science      A  English Literature      F             History   \n",
      "\n",
      "    grade3            subject4 grade4            subject5 grade5 formatted_DOB  \n",
      "0      NaN           Geography      U             History    NaN    06/03/1977  \n",
      "1        C           Geography      E               Maths      B    31/05/1977  \n",
      "2        C             Geology      G             History     A*    04/04/1977  \n",
      "3        G           Geography      C  English Literature      E    25/11/1978  \n",
      "4        F    English Language      C      Double Science    NaN    13/08/1979  \n",
      "..     ...                 ...    ...                 ...    ...           ...  \n",
      "110      D    English Language      C      Double Science      C    20/11/1978  \n",
      "111      C  English Literature      D               Maths      F    08/10/1979  \n",
      "112      F             History      C      Double Science      G    06/11/1979  \n",
      "113      D  English Literature      B                 NaN      D           NaN  \n",
      "114      E               Maths     A*           Geography      F    07/05/1979  \n",
      "\n",
      "[115 rows x 18 columns]\n"
     ]
    }
   ],
   "source": [
    "print(copy_df)"
   ]
  },
  {
   "cell_type": "code",
   "execution_count": 95,
   "metadata": {},
   "outputs": [
    {
     "name": "stdout",
     "output_type": "stream",
     "text": [
      "        id    firstname lastname gender         dob           auth  \\\n",
      "0      NaN    CHARLOTTE   Wright      f    1977/3/6      Bath/Avon   \n",
      "1      2.0        LEIGH  Roberts    NaN   1977/5/31          Herts   \n",
      "2      3.0      MICHAEL    Clark      m    1977/4/4  Wolverhampton   \n",
      "3      NaN         LUKE    White      m  1978/11/25      Bath/Avon   \n",
      "4      5.0       TAYLOR    Clark      m   1979/8/13      Bath/Avon   \n",
      "..     ...          ...      ...    ...         ...            ...   \n",
      "110  111.0    ALEXANDER   Davies      m  1978/11/20  Wolverhampton   \n",
      "111  112.0  CHRISTOPHER     Wood      m   1979/10/8  Wolverhampton   \n",
      "112  113.0       SAMUEL    Jones      m   1979/11/6          Herts   \n",
      "113  114.0       SAMUEL      NaN      m   1977/2/29      Bath/Avon   \n",
      "114  115.0      NATASHA   Walker    NaN    1979/5/7          Herts   \n",
      "\n",
      "    formatted_DOB            subject1 grade1            subject2 grade2  \\\n",
      "0      06/03/1977  English Literature      A               Maths      U   \n",
      "1      31/05/1977    English Language      E      Double Science      B   \n",
      "2      04/04/1977  English Literature      U               Maths      F   \n",
      "3      25/11/1978               Maths      D    English Language     A*   \n",
      "4      13/08/1979               Maths      A             History    NaN   \n",
      "..            ...                 ...    ...                 ...    ...   \n",
      "110    20/11/1978             Geology      E               Maths      C   \n",
      "111    08/10/1979    English Language      D             History      K   \n",
      "112    06/11/1979  English Literature      B    English Language      D   \n",
      "113           NaN               Maths     A*               Maths      C   \n",
      "114    07/05/1979      Double Science      A  English Literature      F   \n",
      "\n",
      "               subject3 grade3            subject4 grade4            subject5  \\\n",
      "0      English Language    NaN           Geography      U             History   \n",
      "1    English Literature      C           Geography      E               Maths   \n",
      "2        Double Science      C             Geology      G             History   \n",
      "3        Double Science      G           Geography      C  English Literature   \n",
      "4    English Literature      F    English Language      C      Double Science   \n",
      "..                  ...    ...                 ...    ...                 ...   \n",
      "110  English Literature      D    English Language      C      Double Science   \n",
      "111           Geography      C  English Literature      D               Maths   \n",
      "112           Geography      F             History      C      Double Science   \n",
      "113      Double Science      D  English Literature      B                 NaN   \n",
      "114             History      E               Maths     A*           Geography   \n",
      "\n",
      "    grade5  \n",
      "0      NaN  \n",
      "1        B  \n",
      "2       A*  \n",
      "3        E  \n",
      "4      NaN  \n",
      "..     ...  \n",
      "110      C  \n",
      "111      F  \n",
      "112      G  \n",
      "113      D  \n",
      "114      F  \n",
      "\n",
      "[115 rows x 17 columns]\n"
     ]
    }
   ],
   "source": [
    "mid = copy_df['formatted_DOB']\n",
    "copy_df.drop(labels=['formatted_DOB'], axis=1, inplace = True)\n",
    "copy_df.insert(6, 'formatted_DOB', mid)\n",
    "print(copy_df)"
   ]
  }
 ],
 "metadata": {
  "kernelspec": {
   "display_name": "Python 3",
   "language": "python",
   "name": "python3"
  },
  "language_info": {
   "codemirror_mode": {
    "name": "ipython",
    "version": 3
   },
   "file_extension": ".py",
   "mimetype": "text/x-python",
   "name": "python",
   "nbconvert_exporter": "python",
   "pygments_lexer": "ipython3",
   "version": "3.8.8"
  }
 },
 "nbformat": 4,
 "nbformat_minor": 4
}
